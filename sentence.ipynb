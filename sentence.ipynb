{
 "cells": [
  {
   "cell_type": "code",
   "execution_count": 1,
   "metadata": {},
   "outputs": [
    {
     "name": "stderr",
     "output_type": "stream",
     "text": [
      "/home/divyansh/.local/lib/python3.11/site-packages/tqdm/auto.py:21: TqdmWarning: IProgress not found. Please update jupyter and ipywidgets. See https://ipywidgets.readthedocs.io/en/stable/user_install.html\n",
      "  from .autonotebook import tqdm as notebook_tqdm\n",
      "[nltk_data] Downloading package stopwords to\n",
      "[nltk_data]     /home/divyansh/nltk_data...\n",
      "[nltk_data]   Package stopwords is already up-to-date!\n"
     ]
    }
   ],
   "source": [
    "from datasets import load_dataset\n",
    "from sklearn.feature_extraction.text import TfidfVectorizer\n",
    "dataset = load_dataset(\"paws\",\"labeled_final\")\n",
    "import nltk\n",
    "nltk.download('stopwords')\n",
    "from nltk.corpus import stopwords\n",
    "import numpy as np\n",
    "from sklearn.linear_model import LogisticRegression\n",
    "from sklearn.metrics import accuracy_score\n"
   ]
  },
  {
   "cell_type": "code",
   "execution_count": 2,
   "metadata": {},
   "outputs": [],
   "source": [
    "with open('GloVe/vectors.txt', 'r') as f:\n",
    "    vectors=f.readlines()"
   ]
  },
  {
   "cell_type": "code",
   "execution_count": 3,
   "metadata": {},
   "outputs": [],
   "source": [
    "def remove_stopwords(sentence):\n",
    "    stop_words = set(stopwords.words('english'))\n",
    "    words = sentence.split()\n",
    "    words = [word for word in words if word not in stop_words]\n",
    "    return ' '.join(words)\n",
    "\n",
    "def cosine_similarity(v1, v2):\n",
    "    return np.dot(v1, v2) / (np.linalg.norm(v1) * np.linalg.norm(v2))\n",
    "\n",
    "def get_avg(sentence):\n",
    "\n",
    "    words = sentence.split()\n",
    "    avg = [0]*50\n",
    "    for word in words:\n",
    "        for vector in vectors:\n",
    "            if word in vector:\n",
    "                vector = vector.split()\n",
    "                for i in range(50):\n",
    "                    avg[i] += float(vector[i+1])\n",
    "                break\n",
    "    for i in range(50):\n",
    "        avg[i] /= len(words)\n",
    "    return avg\n",
    "\n"
   ]
  },
  {
   "cell_type": "code",
   "execution_count": 4,
   "metadata": {},
   "outputs": [
    {
     "name": "stderr",
     "output_type": "stream",
     "text": [
      "Map:   0%|          | 0/8000 [00:00<?, ? examples/s]"
     ]
    },
    {
     "name": "stderr",
     "output_type": "stream",
     "text": [
      "Map: 100%|██████████| 8000/8000 [00:00<00:00, 9719.41 examples/s]\n",
      "/tmp/ipykernel_22700/2647009791.py:8: RuntimeWarning: invalid value encountered in scalar divide\n",
      "  return np.dot(v1, v2) / (np.linalg.norm(v1) * np.linalg.norm(v2))\n"
     ]
    },
    {
     "ename": "KeyboardInterrupt",
     "evalue": "",
     "output_type": "error",
     "traceback": [
      "\u001b[0;31m---------------------------------------------------------------------------\u001b[0m",
      "\u001b[0;31mKeyboardInterrupt\u001b[0m                         Traceback (most recent call last)",
      "Cell \u001b[0;32mIn[4], line 13\u001b[0m\n\u001b[1;32m      9\u001b[0m training_vec \u001b[38;5;241m=\u001b[39m []\n\u001b[1;32m     12\u001b[0m \u001b[38;5;28;01mfor\u001b[39;00m i \u001b[38;5;129;01min\u001b[39;00m \u001b[38;5;28mrange\u001b[39m(\u001b[38;5;28mlen\u001b[39m(training_data)):\n\u001b[0;32m---> 13\u001b[0m     training_vec\u001b[38;5;241m.\u001b[39mappend(cosine_similarity(get_avg(training_data[i][\u001b[38;5;124m'\u001b[39m\u001b[38;5;124msentence1\u001b[39m\u001b[38;5;124m'\u001b[39m]),\u001b[43mget_avg\u001b[49m\u001b[43m(\u001b[49m\u001b[43mtraining_data\u001b[49m\u001b[43m[\u001b[49m\u001b[43mi\u001b[49m\u001b[43m]\u001b[49m\u001b[43m[\u001b[49m\u001b[38;5;124;43m'\u001b[39;49m\u001b[38;5;124;43msentence2\u001b[39;49m\u001b[38;5;124;43m'\u001b[39;49m\u001b[43m]\u001b[49m\u001b[43m)\u001b[49m))\n\u001b[1;32m     14\u001b[0m y \u001b[38;5;241m=\u001b[39m np\u001b[38;5;241m.\u001b[39marray(training_data[\u001b[38;5;124m'\u001b[39m\u001b[38;5;124mlabel\u001b[39m\u001b[38;5;124m'\u001b[39m])\n\u001b[1;32m     15\u001b[0m X \u001b[38;5;241m=\u001b[39m np\u001b[38;5;241m.\u001b[39marray(training_vec)\n",
      "Cell \u001b[0;32mIn[3], line 16\u001b[0m, in \u001b[0;36mget_avg\u001b[0;34m(sentence)\u001b[0m\n\u001b[1;32m     14\u001b[0m \u001b[38;5;28;01mfor\u001b[39;00m word \u001b[38;5;129;01min\u001b[39;00m words:\n\u001b[1;32m     15\u001b[0m     \u001b[38;5;28;01mfor\u001b[39;00m vector \u001b[38;5;129;01min\u001b[39;00m vectors:\n\u001b[0;32m---> 16\u001b[0m         \u001b[38;5;28;01mif\u001b[39;00m word \u001b[38;5;129;01min\u001b[39;00m vector:\n\u001b[1;32m     17\u001b[0m             vector \u001b[38;5;241m=\u001b[39m vector\u001b[38;5;241m.\u001b[39msplit()\n\u001b[1;32m     18\u001b[0m             \u001b[38;5;28;01mfor\u001b[39;00m i \u001b[38;5;129;01min\u001b[39;00m \u001b[38;5;28mrange\u001b[39m(\u001b[38;5;241m50\u001b[39m):\n",
      "\u001b[0;31mKeyboardInterrupt\u001b[0m: "
     ]
    }
   ],
   "source": [
    "training_data = dataset['train']\n",
    "testing_data = dataset['test']\n",
    "validation_data = dataset['validation']\n",
    "\n",
    "training_data = training_data.map(lambda x: {'sentence1': remove_stopwords(x['sentence1']), 'sentence2': remove_stopwords(x['sentence2'])})\n",
    "testing_data = testing_data.map(lambda x: {'sentence1': remove_stopwords(x['sentence1']), 'sentence2': remove_stopwords(x['sentence2'])})\n",
    "validation_data = validation_data.map(lambda x: {'sentence1': remove_stopwords(x['sentence1']), 'sentence2': remove_stopwords(x['sentence2'])})\n",
    "\n",
    "training_vec = []\n",
    "\n",
    "\n",
    "for i in range(len(training_data)):\n",
    "    training_vec.append(cosine_similarity(get_avg(training_data[i]['sentence1']),get_avg(training_data[i]['sentence2'])))\n",
    "y = np.array(training_data['label'])\n",
    "X = np.array(training_vec)\n",
    "\n",
    "X = (X-np.mean(X, axis=0))/np.std(X, axis=0)\n",
    "\n",
    "mean = np.mean(X, axis=0)\n",
    "std = np.std(X, axis=0)\n",
    "\n",
    "model = LogisticRegression()\n",
    "\n",
    "   \n",
    "\n"
   ]
  },
  {
   "cell_type": "code",
   "execution_count": null,
   "metadata": {},
   "outputs": [],
   "source": [
    "model.fit(X, y)\n",
    "\n",
    "testing_vec = []\n",
    "\n",
    "for i in range(len(testing_data)):\n",
    "    testing_vec.append(cosine_similarity(get_avg(testing_data[i]['sentence1']),get_avg(testing_data[i]['sentence2'])))\n",
    "\n",
    "y_test = np.array(testing_data['label'])\n",
    "X_test = np.array(testing_vec)\n",
    "X_test = (X_test-mean)/std\n",
    "\n",
    "y_pred = model.predict(X_test)\n",
    "\n",
    "print(accuracy_score(y_test, y_pred)) "
   ]
  }
 ],
 "metadata": {
  "kernelspec": {
   "display_name": "Python 3",
   "language": "python",
   "name": "python3"
  },
  "language_info": {
   "codemirror_mode": {
    "name": "ipython",
    "version": 3
   },
   "file_extension": ".py",
   "mimetype": "text/x-python",
   "name": "python",
   "nbconvert_exporter": "python",
   "pygments_lexer": "ipython3",
   "version": "3.11.4"
  }
 },
 "nbformat": 4,
 "nbformat_minor": 2
}
