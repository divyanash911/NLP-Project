{
 "cells": [
  {
   "cell_type": "code",
   "execution_count": null,
   "metadata": {},
   "outputs": [],
   "source": [
    "from datasets import load_dataset\n",
    "from sklearn.feature_extraction.text import TfidfVectorizer\n",
    "dataset = load_dataset(\"paws\",\"labeled_final\")\n",
    "import nltk\n",
    "nltk.download('stopwords')\n",
    "from nltk.corpus import stopwords\n",
    "import numpy as np\n",
    "from sklearn.linear_model import LogisticRegression\n",
    "from sklearn.metrics import accuracy_score\n"
   ]
  },
  {
   "cell_type": "code",
   "execution_count": null,
   "metadata": {},
   "outputs": [],
   "source": [
    "with open('GloVe/vectors.txt', 'r') as f:\n",
    "    vectors=f.readlines()"
   ]
  },
  {
   "cell_type": "code",
   "execution_count": null,
   "metadata": {},
   "outputs": [],
   "source": [
    "def remove_stopwords(sentence):\n",
    "    stop_words = set(stopwords.words('english'))\n",
    "    words = sentence.split()\n",
    "    words = [word for word in words if word not in stop_words]\n",
    "    return ' '.join(words)\n",
    "\n",
    "def cosine_similarity(v1, v2):\n",
    "    return np.dot(v1, v2) / (np.linalg.norm(v1) * np.linalg.norm(v2))\n",
    "\n",
    "def get_avg(sentence):\n",
    "\n",
    "    words = sentence.split()\n",
    "    avg = [0]*50\n",
    "    for word in words:\n",
    "        for vector in vectors:\n",
    "            if word in vector:\n",
    "                vector = vector.split()\n",
    "                for i in range(50):\n",
    "                    avg[i] += float(vector[i+1])\n",
    "                break\n",
    "    for i in range(50):\n",
    "        avg[i] /= len(words)\n",
    "    return avg\n",
    "\n"
   ]
  },
  {
   "cell_type": "code",
   "execution_count": null,
   "metadata": {},
   "outputs": [],
   "source": [
    "training_data = dataset['train']\n",
    "testing_data = dataset['test']\n",
    "validation_data = dataset['validation']\n",
    "\n",
    "training_data = training_data.map(lambda x: {'sentence1': remove_stopwords(x['sentence1']), 'sentence2': remove_stopwords(x['sentence2'])})\n",
    "testing_data = testing_data.map(lambda x: {'sentence1': remove_stopwords(x['sentence1']), 'sentence2': remove_stopwords(x['sentence2'])})\n",
    "validation_data = validation_data.map(lambda x: {'sentence1': remove_stopwords(x['sentence1']), 'sentence2': remove_stopwords(x['sentence2'])})\n",
    "\n",
    "training_vec = []\n",
    "\n",
    "\n",
    "for i in range(len(training_data)):\n",
    "    training_vec.append(cosine_similarity(get_avg(training_data[i]['sentence1']),get_avg(training_data[i]['sentence2'])))\n",
    "y = np.array(training_data['label'])\n",
    "X = np.array(training_vec)\n",
    "\n",
    "X = (X-np.mean(X, axis=0))/np.std(X, axis=0)\n",
    "\n",
    "mean = np.mean(X, axis=0)\n",
    "std = np.std(X, axis=0)\n",
    "\n",
    "model = LogisticRegression()\n",
    "\n",
    "   \n",
    "\n"
   ]
  },
  {
   "cell_type": "code",
   "execution_count": null,
   "metadata": {},
   "outputs": [],
   "source": [
    "model.fit(X, y)\n",
    "\n",
    "testing_vec = []\n",
    "\n",
    "for i in range(len(testing_data)):\n",
    "    testing_vec.append(cosine_similarity(get_avg(testing_data[i]['sentence1']),get_avg(testing_data[i]['sentence2'])))\n",
    "\n",
    "y_test = np.array(testing_data['label'])\n",
    "X_test = np.array(testing_vec)\n",
    "X_test = (X_test-mean)/std\n",
    "\n",
    "y_pred = model.predict(X_test)\n",
    "\n",
    "print(accuracy_score(y_test, y_pred)) "
   ]
  }
 ],
 "metadata": {
  "kernelspec": {
   "display_name": "Python 3",
   "language": "python",
   "name": "python3"
  },
  "language_info": {
   "codemirror_mode": {
    "name": "ipython",
    "version": 3
   },
   "file_extension": ".py",
   "mimetype": "text/x-python",
   "name": "python",
   "nbconvert_exporter": "python",
   "pygments_lexer": "ipython3",
   "version": "3.11.4"
  }
 },
 "nbformat": 4,
 "nbformat_minor": 2
}
